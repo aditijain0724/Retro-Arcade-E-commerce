{
 "cells": [
  {
   "cell_type": "markdown",
   "metadata": {},
   "source": [
    "# GBA-465 Assignment 3 - Retro Arcade E-Commerce (Starter)"
   ]
  },
  {
   "cell_type": "markdown",
   "metadata": {},
   "source": [
    "You run a small but growing e-commerce web site which sells parts that hobbyists use to create retro home arcade game machines.\n",
    "\n",
    "As a small business, you currently …\n",
    "\n",
    "- Feature ten (10) products in your catalog for purchase.\n",
    "- Sell to five (5) states in the U.S.A. (which have different sales tax rates).\n",
    "- Offer three (3) discount \"promo codes\".\n",
    "\n",
    "After a successful month fulfilling your orders, you now have some time to analyze the order data downloaded from your e-commerce web site.\n",
    "\n",
    "As a Python programmer with a love of functions and object-oriented programming, you will do the following:\n",
    "\n",
    "- Part A: Create a Product Class (10 Points)\n",
    "- Part B: Instantiate a Test Product Object (10 Points)\n",
    "- Part C: Create an Order Class (10 Points)\n",
    "- Part D: Instantiate a Test Order Object (10 Points)\n",
    "- Part E: Code a createOrder Function (20 Points)\n",
    "- Part F: Load Orders From the Data (20 Points)\n",
    "- Part G: Display an Order Summary Table (10 Points)\n",
    "- Part H: Display a Monthly Revenue Summary Table (10 Points)"
   ]
  },
  {
   "cell_type": "markdown",
   "metadata": {},
   "source": [
    "## Data\n",
    "\n",
    "**Instructions:**\n",
    "- Run (execute) the following code cell in order to load `product_catalog`, `state_tax_rates`, `promo_codes`, and `last_months_order_data`."
   ]
  },
  {
   "cell_type": "code",
   "execution_count": 1,
   "metadata": {},
   "outputs": [],
   "source": [
    "# Product Catalog data\n",
    "product_catalog = {\n",
    "    \"CPU-4\": { \"Manufacturer\": \"Raspberry Pi\", \"Name\": \"Raspberry Pi 4 Computer\", \"Category\": \"Computer\", \"Price\": 39.99 },\n",
    "    \"CPU-3B\": { \"Manufacturer\": \"Raspberry Pi\", \"Name\": \"Raspberry Pi 3B Computer\", \"Category\": \"Computer\", \"Price\": 29.99 },\n",
    "    \"CASE-4\": { \"Manufacturer\": \"Flirc\", \"Name\": \"Case for Raspberry Pi 4\", \"Category\": \"Case\", \"Price\": 15.95 },\n",
    "    \"CASE-3B\": { \"Manufacturer\": \"Flirc\", \"Name\": \"Case for Raspberry Pi 3B\", \"Category\": \"Case\", \"Price\": 15.95 },\n",
    "    \"POWER-4\": { \"Manufacturer\": \"CanaKit\", \"Name\": \"5V 3.5A Power Adapter for Raspberry Pi 4\", \"Category\": \"Power\", \"Price\": 12.99 },\n",
    "    \"POWER-3B\": { \"Manufacturer\": \"CanaKit\", \"Name\": \"5V 2.5A Power Adapter for Raspberry Pi 3B\", \"Category\": \"Power\", \"Price\": 9.99 },\n",
    "    \"CARD-32\": { \"Manufacturer\": \"SanDisk\", \"Name\": \"32GB Micro SD Card\", \"Category\": \"Storage\", \"Price\": 7.49 },\n",
    "    \"VIDEO-1\": { \"Manufacturer\": \"LCDBoard\", \"Name\": \"HDMI + VGA + DVI LCD Video Controller Board\", \"Category\": \"Video\", \"Price\": 29.88 },\n",
    "    \"JOY-1\": { \"Manufacturer\": \"Sanwa\", \"Name\": \"1-Player Joystick and LED Button Kit\", \"Category\": \"Controls\", \"Price\": 49.99 },\n",
    "    \"JOY-2\": { \"Manufacturer\": \"Sanwa\", \"Name\": \"2-Player Joystick and LED Button Kit\", \"Category\": \"Controls\", \"Price\": 89.99 }\n",
    "}\n",
    "\n",
    "# State Tax Rates data\n",
    "# state abbreviation: tax rate (0.08 = 8%)\n",
    "state_tax_rates = {\n",
    "    \"CT\": 0.06,\n",
    "    \"MA\": 0.06,\n",
    "    \"NJ\": 0.07,\n",
    "    \"NY\": 0.08,\n",
    "    \"PA\": 0.06\n",
    "}\n",
    "\n",
    "# Promo Codes data\n",
    "# promo code: discount rate (0.08 = 8%)\n",
    "promo_codes = {\n",
    "    \"VALENTINE\": 0.08,\n",
    "    \"RETROCADE\": 0.05,\n",
    "    \"PAC-MAN\": 0.03\n",
    "}\n",
    "\n",
    "# Last Months Order data\n",
    "last_months_order_data = (\n",
    "    { \"Order\": 538, \"State\": \"NY\", \"Parts\": [ { \"Part\": \"CPU-4\", \"Quantity\": 1 } ], \"Code\": \"\" },\n",
    "    { \"Order\": 539, \"State\": \"NY\", \"Parts\": [ { \"Part\": \"CPU-4\", \"Quantity\": 1 }, { \"Part\": \"POWER-4\", \"Quantity\": 1 } ], \"Code\": \"\" },\n",
    "    { \"Order\": 540, \"State\": \"CT\", \"Parts\": [ { \"Part\": \"CPU-3B\", \"Quantity\": 1 }, { \"Part\": \"VIDEO-1\", \"Quantity\": 1 }, { \"Part\": \"JOY-1\", \"Quantity\": 1 } ], \"Code\": \"VALENTINE\"},\n",
    "    { \"Order\": 541, \"State\": \"MA\", \"Parts\": [ { \"Part\": \"CARD-32\", \"Quantity\": 1 } ], \"Code\": \"\" },\n",
    "    { \"Order\": 542, \"State\": \"NJ\", \"Parts\": [ { \"Part\": \"CPU-3B\", \"Quantity\": 1 }, { \"Part\": \"CASE-3B\", \"Quantity\": 1 }, { \"Part\": \"POWER-3B\", \"Quantity\": 1 }, { \"Part\": \"VIDEO-1\", \"Quantity\": 1 } ], \"Code\": \"PAC-MAN\" },\n",
    "    { \"Order\": 543, \"State\": \"PA\", \"Parts\": [ { \"Part\": \"CPU-4\", \"Quantity\": 1 }, { \"Part\": \"CASE-4\", \"Quantity\": 1 }, { \"Part\": \"POWER-4\", \"Quantity\": 1 }, { \"Part\": \"CARD-32\", \"Quantity\": 1 }, { \"Part\": \"VIDEO-1\", \"Quantity\": 1 }, { \"Part\": \"JOY-2\", \"Quantity\": 1 } ], \"Code\": \"RETROCADE\" },\n",
    "    { \"Order\": 544, \"State\": \"NY\", \"Parts\": [ { \"Part\": \"CPU-3B\", \"Quantity\": 1 }, { \"Part\": \"CARD-32\", \"Quantity\": 1 } ], \"Code\": \"\" },\n",
    "    { \"Order\": 545, \"State\": \"NY\", \"Parts\": [ { \"Part\": \"CPU-3B\", \"Quantity\": 1 }, { \"Part\": \"CASE-3B\", \"Quantity\": 1 }, { \"Part\": \"POWER-3B\", \"Quantity\": 1 }, { \"Part\": \"CARD-32\", \"Quantity\": 1 }, { \"Part\": \"VIDEO-1\", \"Quantity\": 1 }, { \"Part\": \"JOY-2\", \"Quantity\": 1 } ], \"Code\": \"PAC-MAN\" },\n",
    "    { \"Order\": 546, \"State\": \"NY\", \"Parts\": [ { \"Part\": \"JOY-1\", \"Quantity\": 1 } ], \"Code\": \"VALENTINE\" },\n",
    "    { \"Order\": 547, \"State\": \"MA\", \"Parts\": [ { \"Part\": \"CPU-3B\", \"Quantity\": 2 }, { \"Part\": \"CASE-3B\", \"Quantity\": 2 } ], \"Code\": \"RETROCADE\" },\n",
    "    { \"Order\": 548, \"State\": \"NJ\", \"Parts\": [ { \"Part\": \"CPU-4\", \"Quantity\": 10 } ], \"Code\": \"\" }\n",
    ")\n"
   ]
  },
  {
   "cell_type": "markdown",
   "metadata": {},
   "source": [
    "## Part A - Create a Product Class\n",
    "\n",
    "**Instructions:**\n",
    "- **Create** a `Product` class which defines the following attributes and methods for a Product sold on your e-commerce site:\n",
    "- Attributes:\n",
    "    - part (string)\n",
    "    - manufacturer (string)\n",
    "    - name (string)\n",
    "    - category (string)\n",
    "    - price (float)\n",
    "- Method 1 (Constructor)\n",
    "    - Description: The constructor accepts parameter values during instantiation and assigns the values to attributes.\n",
    "    - Parameters\n",
    "        - part (string)\n",
    "        - manufacturer (string)\n",
    "        - name (string)\n",
    "        - category (string)\n",
    "        - price (float)\n",
    "    - Body\n",
    "        - Initialize the object's attributes to the parameter values.\n",
    "    - Returns\n",
    "        - No returns"
   ]
  },
  {
   "cell_type": "code",
   "execution_count": 2,
   "metadata": {},
   "outputs": [],
   "source": [
    "# Your implementation:\n",
    "class Product:\n",
    "    def __init__(self, part, manufacturer, name, category, price):\n",
    "        self.part = part\n",
    "        self.manufacturer = manufacturer\n",
    "        self.name = name\n",
    "        self.category = category\n",
    "        self.price = price"
   ]
  },
  {
   "cell_type": "markdown",
   "metadata": {},
   "source": [
    "## Part B - Instantiate a Test Product Object\n",
    "**Instructions:**\n",
    "- **Instantiate** a `Product` object for the following static information:\n",
    "    - Part: \"Joy-1\"\n",
    "    - Manufacturer: \"Sanwa\"\n",
    "    - Name: \"1-Player Joystick and LED Buttons Kit\"\n",
    "    - Category: \"Controls\"\n",
    "    - Price: 49.99\n",
    "- **Store** the instantiated object in a variable called `myProduct`.\n",
    "- **Print** the name attribute of the `myProduct` object."
   ]
  },
  {
   "cell_type": "code",
   "execution_count": 3,
   "metadata": {},
   "outputs": [
    {
     "data": {
      "text/plain": [
       "'1-Player Joystick and LED Buttons Kit'"
      ]
     },
     "execution_count": 3,
     "metadata": {},
     "output_type": "execute_result"
    }
   ],
   "source": [
    "# Your implementation:\n",
    "myProduct = Product(\n",
    "    part=\"JOY-1\",\n",
    "    manufacturer=\"Sanwa\",\n",
    "    name=\"1-Player Joystick and LED Buttons Kit\",\n",
    "    category=\"Controls\",\n",
    "    price=49.99\n",
    ")\n",
    "\n",
    "myProduct.name"
   ]
  },
  {
   "cell_type": "markdown",
   "metadata": {},
   "source": [
    "## Part C - Create an Order Class\n",
    "\n",
    "**Instructions:**\n",
    "- **Create** an `Order` class which defines the following attributes and methods for an Order made on your e-commerce site:\n",
    "- Attributes\n",
    "    - order_number (integer)\n",
    "    - tax_rate (float)\n",
    "    - discount_rate (float)\n",
    "    - products (list of Product objects)\n",
    "- Method 1 (Constructor)\n",
    "    - Description: The constructor accepts parameter values during instantiation and assigns the values to attributes.\n",
    "    - Parameters\n",
    "        - order_number (integer)\n",
    "        - tax_rate (float, optional, with a default value of 0.00)\n",
    "        - discount_rate (float, optional, with a default value of 0.00)\n",
    "    - Body\n",
    "        - Initialize the object's order_number, tax_rate, and discount_rate attributes to the parameter values.\n",
    "        - Initialize the object's products attribute to an empty list.\n",
    "    - Returns\n",
    "        - No returns\n",
    "- Method 2 (addProduct)\n",
    "    - Description: addProduct accepts a Product object value and adds the value to the object's products list.\n",
    "    - Parameters\n",
    "        - product (a Product object)\n",
    "    - Body\n",
    "        - Adds the product parameter to the object's products list.\n",
    "    - Returns\n",
    "        - No returns\n",
    "- Method 3 (getSubTotal)\n",
    "    - Description: getSubTotal calculates the order sub-total (the sum of the product prices in the object's products list).\n",
    "    - Parameters\n",
    "        - No parameters\n",
    "    - Body\n",
    "        - Calculate the order sub-total (the sum of the product prices).\n",
    "    - Returns\n",
    "        - The calculated order sub-total\n",
    "- Method 4 (getTotal)\n",
    "    - Description: getTotal calculates the order total (the result of calling getSubTotal multiplied by one minus the discount rate multiplied by one plus the tax rate).\n",
    "    - Parameters\n",
    "        - No parameters\n",
    "    - Body\n",
    "        - Calculate the order total (the result of calling getSubTotal multiplied by one minus the discount rate multiplied by one plus the tax rate).\n",
    "    - Returns\n",
    "        - The calculated order total\n",
    "- Method 5 (getNumProducts)\n",
    "    - Description: getNumProducts returns the number of products in the object's products list.\n",
    "    - Parameters\n",
    "        - No parameters\n",
    "    - Returns\n",
    "        - The number of products"
   ]
  },
  {
   "cell_type": "code",
   "execution_count": 4,
   "metadata": {},
   "outputs": [],
   "source": [
    "# Your implementation:\n",
    "\n",
    "class Order:\n",
    "    def __init__(self, order_number, tax_rate=0.00, discount_rate=0.00):\n",
    "        self.order_number = order_number\n",
    "        self.tax_rate = tax_rate\n",
    "        self.discount_rate = discount_rate\n",
    "        self.products = []\n",
    "\n",
    "    def addProduct(self, product):\n",
    "        self.products.append(product)\n",
    "\n",
    "    def getSubTotal(self):\n",
    "        s=0\n",
    "        for product in self.products:\n",
    "            s+=product.price\n",
    "        return s\n",
    "\n",
    "    def getTotal(self):\n",
    "        sub_total = self.getSubTotal()\n",
    "        return sub_total * (1 - self.discount_rate) * (1 + self.tax_rate)\n",
    "\n",
    "    def getNumProducts(self):\n",
    "        return len(self.products)\n",
    "\n"
   ]
  },
  {
   "cell_type": "markdown",
   "metadata": {},
   "source": [
    "## Part D - Instantiate a Test Order Object\n",
    "**Instructions:**\n",
    "- **Instantiate** an `Order` object for the following static information:\n",
    "    - Order Number: 538\n",
    "- **Store** the instantiated object in a variable called `myOrder`.\n",
    "- **Print** the order number attribute of the `myOrder` object."
   ]
  },
  {
   "cell_type": "code",
   "execution_count": 5,
   "metadata": {},
   "outputs": [
    {
     "name": "stdout",
     "output_type": "stream",
     "text": [
      "538\n"
     ]
    }
   ],
   "source": [
    "# Your implementation:\n",
    "myOrder = Order(order_number=538)\n",
    "\n",
    "print(myOrder.order_number)"
   ]
  },
  {
   "cell_type": "markdown",
   "metadata": {},
   "source": [
    "## Part E - Code a createOrder Function\n",
    "**Instructions:**\n",
    "- **Create** a function which converts order data into an order object (including its aggregate product objects).\n",
    "- Function (createOrder)\n",
    "    - Description: `createOrder` converts order data into an order object (including its aggregate product objects).\n",
    "    - Parameters\n",
    "        - order_number (integer)\n",
    "        - parts_data (list of strings)\n",
    "        - state_abbreviation (string)\n",
    "        - promo_code (string)\n",
    "    - Body\n",
    "        - **Determine** the tax rate for `state_abbreviation` by accessing the `global state_tax_rates`.\n",
    "        - **Determine** the discount rate for `promo_code` by accessing the `global promo_codes`.\n",
    "        - **Instantiate** an object from the `Order` class called `order`.\n",
    "        - **Iterate** over the `parts_data` parameter value.  For each part, considering the quantity of parts orders:\n",
    "        - **Look up** the product manufacturer, name, category, and price by accessing the global `product_catalog`.\n",
    "        - **Instantiate** an object from the `Product` class called `product`.\n",
    "        - **Initialize** the product object attributes using the constructor.\n",
    "        - **Add** the product to the order using the `addProduct` method.\n",
    "    - Returns\n",
    "        - The order object instantiated in the body."
   ]
  },
  {
   "cell_type": "code",
   "execution_count": 6,
   "metadata": {},
   "outputs": [],
   "source": [
    "# Your implementation:\n",
    "def createOrder(order_number, parts_data, state_abbreviation, promo_code):\n",
    "    tax_rate = state_tax_rates.get(state_abbreviation, 0.00) \n",
    "    discount_rate = promo_codes.get(promo_code, 0.00)  \n",
    "\n",
    "    order = Order(order_number, tax_rate, discount_rate)\n",
    "\n",
    "    for part_code in parts_data:\n",
    "        part_info = product_catalog.get(part_code['Part'])\n",
    "        for i in range(part_code['Quantity']):\n",
    "            product = Product(\n",
    "                part=part_code['Part'],\n",
    "                manufacturer=part_info['Manufacturer'],\n",
    "                name=part_info['Name'],\n",
    "                category=part_info['Category'],\n",
    "                price=part_info['Price']\n",
    "            )\n",
    "            order.addProduct(product)\n",
    "\n",
    "    return order\n",
    "\n",
    "\n",
    "\n"
   ]
  },
  {
   "cell_type": "markdown",
   "metadata": {},
   "source": [
    "## Part F - Load Orders From the Data\n",
    "**Instructions:**\n",
    "- **Write** dynamic Python code to implement the following steps:\n",
    "    - **Create** an empty list called `orders`.\n",
    "    - **Iterate** over the global `last_months_order_data`.\n",
    "    - For each row in the data:\n",
    "        - **Call** the `createOrder` function (passing in parts and other values).\n",
    "        - **Get** the returned order object.\n",
    "        - **Append** the order object to orders."
   ]
  },
  {
   "cell_type": "code",
   "execution_count": 7,
   "metadata": {},
   "outputs": [
    {
     "name": "stdout",
     "output_type": "stream",
     "text": [
      "Number of orders loaded: 11\n"
     ]
    }
   ],
   "source": [
    "# Your implementation:\n",
    "orders = []\n",
    "\n",
    "for order_data in last_months_order_data:\n",
    "    order_number = order_data[\"Order\"]\n",
    "    state_abbreviation = order_data[\"State\"]\n",
    "    promo_code = order_data[\"Code\"]\n",
    "    parts_data = order_data[\"Parts\"]\n",
    "    parts_data_formatted= []\n",
    "    for part in parts_data:\n",
    "        parts_data_formatted.append({\"Part\": part[\"Part\"], \"Quantity\": part[\"Quantity\"]})\n",
    "        \n",
    "     \n",
    "\n",
    "    order = createOrder(order_number, parts_data_formatted, state_abbreviation, promo_code)\n",
    "    orders.append(order)\n",
    "print(\"Number of orders loaded:\", len(orders))"
   ]
  },
  {
   "cell_type": "markdown",
   "metadata": {},
   "source": [
    "## Part G - Display an Order Summary Table\n",
    "**Instructions:**\n",
    "- **Write** dynamic Python code to implement the following steps:\n",
    "    - **Access** the list of objects you created in orders.\n",
    "    - **Generate** the following output dynamically:\n",
    "        - **Use** the `tabulate` Python package to achieve a true, column-based layout.\n",
    "        - **Create** an \"Order\" column.  Use left-alignment for this column (both header and data).\n",
    "        - **Create** \"Size\", \"Sub-Total\", \"Tax\", \"Discount\", and \"Total\" columns.  Use right-alignment for these columns (both header and data).\n",
    "        - **Iterate** over orders, creating a row for each order:\n",
    "            - In the \"Order\" column, **display** `order_number`.\n",
    "            - In the \"Size\" column, **display** the result of the `getNumProducts` method.\n",
    "            - In the \"Sub-Total\" column, **display** the result of the `getSubTotal` method.  Add \\\\$ and format to two (2) decimal places.\n",
    "            - In the \"Tax\" column, **display** `tax_rate`.  Show as percent, format to one (1) decimal place, and add %.\n",
    "            - In the \"Discount\" column, **display** `discount_rate`.  If the value is 0, show a dash.  Otherwise, show as percent, format to one (1) decimal place, and add %.\n",
    "            - In the \"Total\" column, **display** the result of the `getTotal` method.  Add $ and format to two (2) decimal places.\n",
    "        - **Do not** hard-code index values."
   ]
  },
  {
   "cell_type": "code",
   "execution_count": 8,
   "metadata": {},
   "outputs": [
    {
     "name": "stdout",
     "output_type": "stream",
     "text": [
      "  Order    Size  Sub-Total    Tax    Discount    Total\n",
      "-------  ------  -----------  -----  ----------  -------\n",
      "    538       1  $39.99       8.0%   -           $43.19\n",
      "    539       2  $52.98       8.0%   -           $57.22\n",
      "    540       3  $109.86      6.0%   8.0%        $107.14\n",
      "    541       1  $7.49        6.0%   -           $7.94\n",
      "    542       4  $85.81       7.0%   3.0%        $89.06\n",
      "    543       6  $196.29      6.0%   5.0%        $197.66\n",
      "    544       2  $37.48       8.0%   -           $40.48\n",
      "    545       6  $183.29      8.0%   3.0%        $192.01\n",
      "    546       1  $49.99       8.0%   8.0%        $49.67\n",
      "    547       4  $91.88       6.0%   5.0%        $92.52\n",
      "    548      10  $399.90      7.0%   -           $427.89\n"
     ]
    }
   ],
   "source": [
    "\n",
    "from tabulate import tabulate\n",
    "\n",
    "# Prepare the data for the tabulate function\n",
    "table_data = [\n",
    "    [\"Order\", \"Size\", \"Sub-Total\", \"Tax\", \"Discount\", \"Total\"]\n",
    "]\n",
    "\n",
    "for order in orders:\n",
    "    table_data.append([\n",
    "        order.order_number,\n",
    "        order.getNumProducts(),\n",
    "        \"${:,.2f}\".format(order.getSubTotal()),\n",
    "        \"{:.1f}%\".format(order.tax_rate * 100),\n",
    "        \"-\" if order.discount_rate == 0 else \"{:.1f}%\".format(order.discount_rate * 100),\n",
    "        \"${:,.2f}\".format(order.getTotal())\n",
    "    ])\n",
    "\n",
    "print(tabulate(table_data[1:], headers=table_data[0], numalign=\"right\", stralign=\"left\"))\n"
   ]
  },
  {
   "cell_type": "markdown",
   "metadata": {},
   "source": [
    "## Part H - Display a Monthly Revenue Summary Table\n",
    "**Instructions:**\n",
    "- **Write** dynamic Python code to implement the following steps:\n",
    "    - **Determine** the total number of orders from last month's orders. Store the value in a variable called `total_num_orders`.\n",
    "    - **Calculate** the total revenue generated from last month's orders using orders, iteration, and getTotal. Store the value in a variable called `total_revenue`.\n",
    "    - **Calculate** the total number of products sold from last month's orders using orders, iteration, and getNumProducts. Store the value in a variable called `total_num_products`.\n",
    "    - **Calculate** the average order size (divide total_num_products by total_num_orders). Store the value in a variable called `average_order_size`.\n",
    "    - **Calculate** the average order revenue (divide total_revenue by total_num_orders). Store the value in a variable called `average_order_revenue`.\n",
    "    - **Generate** the following output dynamically:\n",
    "        - **Use** the `tabulate` Python package to achieve a true, column-based layout.\n",
    "        - **Create** two columns.  The first column is for labels and the second column is for values.\n",
    "        - **Use** right-alignment for both columns.\n",
    "        - For \"Total Orders:\" row, **display** `total_num_orders`.\n",
    "        - For \"Total Products Sold:\" row, **display** `total_num_products`.\n",
    "        - For \"Total Revenue:\" row, **display** `total_revenue`.  Add \\\\$ and format to two (2) decimal places.\n",
    "        - For \"Average Size Per Order:\" row, **display** `average_order_size`.  Format to one (1) decimal place.\n",
    "        - For \"Average Revenue Per Order:\" row, **display** `average_order_revenue`.  Add $ and format to two (2) decimal places. "
   ]
  },
  {
   "cell_type": "code",
   "execution_count": 9,
   "metadata": {},
   "outputs": [
    {
     "name": "stdout",
     "output_type": "stream",
     "text": [
      "--------------------------  ---------\n",
      "             Total Orders:         11\n",
      "      Total Products Sold:         40\n",
      "            Total Revenue:  $1,304.79\n",
      "   Average Size Per Order:        3.6\n",
      "Average Revenue Per Order:    $118.62\n",
      "--------------------------  ---------\n"
     ]
    }
   ],
   "source": [
    "total_num_orders = len(orders)\n",
    "total_revenue = 0\n",
    "for order in orders:\n",
    "    total_revenue += order.getTotal()\n",
    "total_num_products = 0\n",
    "for order in orders:\n",
    "    total_num_products += order.getNumProducts()\n",
    "average_order_size = total_num_products / total_num_orders\n",
    "average_order_revenue = total_revenue / total_num_orders\n",
    "\n",
    "summary_table = [\n",
    "    [\"Total Orders:\", total_num_orders],\n",
    "    [\"Total Products Sold:\", total_num_products],\n",
    "    [\"Total Revenue:\", \"${:,.2f}\".format(total_revenue)],\n",
    "    [\"Average Size Per Order:\", \"{:.1f}\".format(average_order_size)],\n",
    "    [\"Average Revenue Per Order:\", \"${:,.2f}\".format(average_order_revenue)]\n",
    "]\n",
    "\n",
    "print(tabulate(summary_table, numalign=\"right\", stralign=\"right\"))\n"
   ]
  },
  {
   "cell_type": "code",
   "execution_count": null,
   "metadata": {},
   "outputs": [],
   "source": []
  }
 ],
 "metadata": {
  "kernelspec": {
   "display_name": "Python 3 (ipykernel)",
   "language": "python",
   "name": "python3"
  },
  "language_info": {
   "codemirror_mode": {
    "name": "ipython",
    "version": 3
   },
   "file_extension": ".py",
   "mimetype": "text/x-python",
   "name": "python",
   "nbconvert_exporter": "python",
   "pygments_lexer": "ipython3",
   "version": "3.11.5"
  }
 },
 "nbformat": 4,
 "nbformat_minor": 2
}
